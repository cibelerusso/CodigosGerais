{
  "nbformat": 4,
  "nbformat_minor": 0,
  "metadata": {
    "colab": {
      "provenance": []
    },
    "kernelspec": {
      "name": "python3",
      "display_name": "Python 3"
    },
    "language_info": {
      "name": "python"
    }
  },
  "cells": [
    {
      "cell_type": "markdown",
      "source": [
        "\n",
        "## Medindo o tempo de execução\n",
        "\n"
      ],
      "metadata": {
        "id": "Yvuk5noBplDV"
      }
    },
    {
      "cell_type": "code",
      "source": [
        "import numpy as np\n",
        "import time\n",
        "from numpy.random import seed\n",
        "from numpy.random import randn"
      ],
      "metadata": {
        "id": "xw_PwOk3y2b4"
      },
      "execution_count": 13,
      "outputs": []
    },
    {
      "cell_type": "code",
      "source": [
        "ini = time.time()\n",
        "\n",
        "# gera valores da Normal padrão\n",
        "values = randn(10000)\n",
        "\n",
        "fim = time.time()\n",
        "\n",
        "print(fim-ini)\n"
      ],
      "metadata": {
        "colab": {
          "base_uri": "https://localhost:8080/"
        },
        "id": "nF8qa5wfy35H",
        "outputId": "c40039aa-3bff-43c3-9ad8-369be6ea5ede"
      },
      "execution_count": 22,
      "outputs": [
        {
          "output_type": "stream",
          "name": "stdout",
          "text": [
            "0.0018413066864013672\n"
          ]
        }
      ]
    },
    {
      "cell_type": "code",
      "source": [
        "ini = time.time()\n",
        "\n",
        "# gera valores da Normal padrão\n",
        "values = randn(10000)\n",
        "media = values.mean()\n",
        "\n",
        "fim = time.time()\n",
        "\n",
        "print(fim-ini)"
      ],
      "metadata": {
        "colab": {
          "base_uri": "https://localhost:8080/"
        },
        "id": "y4VE96bnz4tN",
        "outputId": "8bc81448-5a71-4bc7-9612-f6e46ccdc6d3"
      },
      "execution_count": 20,
      "outputs": [
        {
          "output_type": "stream",
          "name": "stdout",
          "text": [
            "0.0016727447509765625\n"
          ]
        }
      ]
    },
    {
      "cell_type": "code",
      "source": [
        "ini = time.time()\n",
        "\n",
        "# gera valores da Normal padrão\n",
        "values = randn(10000)\n",
        "media = values.mean()\n",
        "variancia = values.var()\n",
        "\n",
        "fim = time.time()\n",
        "\n",
        "print(fim-ini)"
      ],
      "metadata": {
        "colab": {
          "base_uri": "https://localhost:8080/"
        },
        "id": "ZoI0Mvx8z4vt",
        "outputId": "100d02bd-aba4-46d0-f0cb-c94944172382"
      },
      "execution_count": 18,
      "outputs": [
        {
          "output_type": "stream",
          "name": "stdout",
          "text": [
            "0.0013718605041503906\n"
          ]
        }
      ]
    },
    {
      "cell_type": "code",
      "source": [],
      "metadata": {
        "id": "-6m0DwnWzyWn"
      },
      "execution_count": null,
      "outputs": []
    }
  ]
}